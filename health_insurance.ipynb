{
  "nbformat": 4,
  "nbformat_minor": 0,
  "metadata": {
    "colab": {
      "provenance": []
    },
    "kernelspec": {
      "name": "python3",
      "display_name": "Python 3"
    },
    "language_info": {
      "name": "python"
    }
  },
  "cells": [
    {
      "cell_type": "code",
      "execution_count": null,
      "metadata": {
        "id": "5WcrJ7QIY-EQ"
      },
      "outputs": [],
      "source": [
        "#importing all the neccesary libraries\n",
        "import pandas as pd\n",
        "import numpy as np\n",
        "from sklearn.model_selection import train_test_split\n",
        "from sklearn.preprocessing import StandardScaler\n",
        "from sklearn.linear_model import LogisticRegression\n",
        "from sklearn.metrics import accuracy_score, classification_report"
      ]
    },
    {
      "cell_type": "code",
      "source": [
        "# Load the CSV data into a pandas DataFrame\n",
        "data = pd.read_csv('health_insurance.csv')"
      ],
      "metadata": {
        "id": "IamSXfsDZCwQ"
      },
      "execution_count": null,
      "outputs": []
    },
    {
      "cell_type": "code",
      "source": [
        "print(data.info())"
      ],
      "metadata": {
        "colab": {
          "base_uri": "https://localhost:8080/"
        },
        "id": "Ii5vIz_nnlPq",
        "outputId": "4cbf5086-0309-4e15-edda-350707f45119"
      },
      "execution_count": null,
      "outputs": [
        {
          "output_type": "stream",
          "name": "stdout",
          "text": [
            "<class 'pandas.core.frame.DataFrame'>\n",
            "RangeIndex: 56842 entries, 0 to 56841\n",
            "Data columns (total 12 columns):\n",
            " #   Column                Non-Null Count  Dtype  \n",
            "---  ------                --------------  -----  \n",
            " 0   id                    56842 non-null  int64  \n",
            " 1   Gender                56842 non-null  object \n",
            " 2   Age                   56842 non-null  int64  \n",
            " 3   Driving_License       56842 non-null  int64  \n",
            " 4   Region_Code           56842 non-null  float64\n",
            " 5   Previously_Insured    56842 non-null  int64  \n",
            " 6   Vehicle_Age           56842 non-null  object \n",
            " 7   Vehicle_Damage        56842 non-null  object \n",
            " 8   Annual_Premium        56842 non-null  float64\n",
            " 9   Policy_Sales_Channel  56842 non-null  float64\n",
            " 10  Vintage               56842 non-null  int64  \n",
            " 11  Response              56842 non-null  int64  \n",
            "dtypes: float64(3), int64(6), object(3)\n",
            "memory usage: 5.2+ MB\n",
            "None\n"
          ]
        }
      ]
    },
    {
      "cell_type": "code",
      "source": [
        "#visualising dataset usig matplotlib\n",
        "import matplotlib.pyplot as plt\n",
        "x = data['Gender']\n",
        "y = data['Age']\n",
        "plt.bar(x,y)\n",
        "plt.title('gender vs age')\n",
        "plt.xlabel('gender')\n",
        "plt.ylabel('age')\n",
        "plt.show()"
      ],
      "metadata": {
        "colab": {
          "base_uri": "https://localhost:8080/",
          "height": 472
        },
        "id": "lTG9meTyOPwp",
        "outputId": "b8ddaf09-9a57-422e-a707-f551f4d04320"
      },
      "execution_count": null,
      "outputs": [
        {
          "output_type": "display_data",
          "data": {
            "text/plain": [
              "<Figure size 640x480 with 1 Axes>"
            ],
            "image/png": "[encoded data removed]"
          },
          "metadata": {}
        }
      ]
    },
    {
      "cell_type": "code",
      "source": [
        "# Assuming the last column is the target variable and the rest are features\n",
        "X = data.iloc[:, :-1]\n",
        "y = data.iloc[:, -1]"
      ],
      "metadata": {
        "id": "ZyRVHCpKZDpH"
      },
      "execution_count": null,
      "outputs": []
    },
    {
      "cell_type": "code",
      "source": [
        "print(X)"
      ],
      "metadata": {
        "colab": {
          "base_uri": "https://localhost:8080/"
        },
        "id": "5ED8_mJzbNt3",
        "outputId": "a24c90fb-7b1e-4efa-c5d9-3b71dd10a0d8"
      },
      "execution_count": null,
      "outputs": [
        {
          "output_type": "stream",
          "name": "stdout",
          "text": [
            "          id  Gender  Age  Driving_License  Region_Code  Previously_Insured  \\\n",
            "0          1    Male   44                1         28.0                   0   \n",
            "1          2    Male   76                1          3.0                   0   \n",
            "2          3    Male   47                1         28.0                   0   \n",
            "3          4    Male   21                1         11.0                   1   \n",
            "4          5  Female   29                1         41.0                   1   \n",
            "...      ...     ...  ...              ...          ...                 ...   \n",
            "56837  56838    Male   42                1          5.0                   0   \n",
            "56838  56839    Male   30                1         41.0                   1   \n",
            "56839  56840  Female   49                1         28.0                   1   \n",
            "56840  56841  Female   23                1         35.0                   1   \n",
            "56841  56842    Male   21                1         15.0                   1   \n",
            "\n",
            "      Vehicle_Age Vehicle_Damage  Annual_Premium  Policy_Sales_Channel  \\\n",
            "0       > 2 Years            Yes         40454.0                  26.0   \n",
            "1        1-2 Year             No         33536.0                  26.0   \n",
            "2       > 2 Years            Yes         38294.0                  26.0   \n",
            "3        < 1 Year             No         28619.0                 152.0   \n",
            "4        < 1 Year             No         27496.0                 152.0   \n",
            "...           ...            ...             ...                   ...   \n",
            "56837    1-2 Year             No         22330.0                 124.0   \n",
            "56838    < 1 Year             No         36904.0                 152.0   \n",
            "56839    1-2 Year             No         48016.0                  26.0   \n",
            "56840    < 1 Year             No         35697.0                 152.0   \n",
            "56841    < 1 Year             No         36876.0                 160.0   \n",
            "\n",
            "       Vintage  \n",
            "0          217  \n",
            "1          183  \n",
            "2           27  \n",
            "3          203  \n",
            "4           39  \n",
            "...        ...  \n",
            "56837       93  \n",
            "56838      154  \n",
            "56839      251  \n",
            "56840      129  \n",
            "56841       11  \n",
            "\n",
            "[56842 rows x 11 columns]\n"
          ]
        }
      ]
    },
    {
      "cell_type": "code",
      "source": [
        "print(y)"
      ],
      "metadata": {
        "colab": {
          "base_uri": "https://localhost:8080/"
        },
        "id": "VprspZ75n-b6",
        "outputId": "46cf08c5-1a6c-400b-b766-93dc44759421"
      },
      "execution_count": null,
      "outputs": [
        {
          "output_type": "stream",
          "name": "stdout",
          "text": [
            "0        1\n",
            "1        0\n",
            "2        1\n",
            "3        0\n",
            "4        0\n",
            "        ..\n",
            "56837    0\n",
            "56838    0\n",
            "56839    0\n",
            "56840    0\n",
            "56841    0\n",
            "Name: Response, Length: 56842, dtype: int64\n"
          ]
        }
      ]
    },
    {
      "cell_type": "code",
      "source": [
        "categorical_data = ['Gender', 'Vehicle_Damage']\n",
        "numerical_data = ['id','Age','Driving_License', 'Region_Code', 'Previously_Insured','Annual_Premium','Policy_Sales_Channel','Vintage']\n",
        "target_data = ['Responses']"
      ],
      "metadata": {
        "id": "1WRFigmAgzEF"
      },
      "execution_count": null,
      "outputs": []
    },
    {
      "cell_type": "code",
      "source": [
        "# Split the data into training and testing sets\n",
        "X_train, X_test, y_train, y_test = train_test_split(X, y, test_size=0.2, random_state=42)"
      ],
      "metadata": {
        "id": "bIPNUa82ZD4_"
      },
      "execution_count": null,
      "outputs": []
    },
    {
      "cell_type": "code",
      "source": [
        "# Label encode the 'Vehicle_Age' column\n",
        "from sklearn.preprocessing import LabelEncoder\n",
        "label_encoder = LabelEncoder()\n",
        "X_train['Vehicle_Age'] = label_encoder.fit_transform(X_train['Vehicle_Age'])\n",
        "X_test['Vehicle_Age'] = label_encoder.transform(X_test['Vehicle_Age'])"
      ],
      "metadata": {
        "id": "nd90euLylg4z"
      },
      "execution_count": null,
      "outputs": []
    },
    {
      "cell_type": "code",
      "source": [
        "from sklearn.preprocessing import StandardScaler\n",
        "from sklearn.compose import ColumnTransformer\n",
        "from sklearn.preprocessing import OneHotEncoder\n",
        "preprocessor = ColumnTransformer(\n",
        "    transformers=[\n",
        "        ('tnf1', StandardScaler(), numerical_data),\n",
        "        ('tnf2', OneHotEncoder(), categorical_data)\n",
        "    ],\n",
        "    remainder='passthrough'  # Pass through any remaining columns\n",
        ")"
      ],
      "metadata": {
        "id": "Mtd9wLs4gzik"
      },
      "execution_count": null,
      "outputs": []
    },
    {
      "cell_type": "code",
      "source": [
        "# Transform and fit the preprocessor on the training data\n",
        "X_train_transformed = preprocessor.fit_transform(X_train)"
      ],
      "metadata": {
        "id": "K7GOxQ9xkYLs"
      },
      "execution_count": null,
      "outputs": []
    },
    {
      "cell_type": "code",
      "source": [
        "print(X_train_transformed)"
      ],
      "metadata": {
        "colab": {
          "base_uri": "https://localhost:8080/"
        },
        "id": "0N0Xm94AlzTL",
        "outputId": "b1a17840-4b61-4b5a-a35b-9266908d72a6"
      },
      "execution_count": null,
      "outputs": [
        {
          "output_type": "stream",
          "name": "stdout",
          "text": [
            "[[-0.28397079 -0.89011309  0.04575506 ...  1.          0.\n",
            "   1.        ]\n",
            " [ 1.22192787  0.91932862  0.04575506 ...  0.          1.\n",
            "   0.        ]\n",
            " [ 1.17848908  1.63018072  0.04575506 ...  1.          0.\n",
            "   0.        ]\n",
            " ...\n",
            " [-1.67913712  0.20847652  0.04575506 ...  0.          1.\n",
            "   0.        ]\n",
            " [-0.76795953 -0.954736    0.04575506 ...  1.          0.\n",
            "   1.        ]\n",
            " [ 1.71067536 -1.01935892  0.04575506 ...  1.          0.\n",
            "   1.        ]]\n"
          ]
        }
      ]
    },
    {
      "cell_type": "code",
      "source": [
        "# Transform the test data using the preprocessor\n",
        "X_test_transformed = preprocessor.transform(X_test)"
      ],
      "metadata": {
        "id": "JC9hPreskaST"
      },
      "execution_count": null,
      "outputs": []
    },
    {
      "cell_type": "code",
      "source": [
        "print(X_test_transformed)"
      ],
      "metadata": {
        "colab": {
          "base_uri": "https://localhost:8080/"
        },
        "id": "Yq3u24XEmL4L",
        "outputId": "b70d16b8-02c0-41f7-c37f-47272c378da9"
      },
      "execution_count": null,
      "outputs": [
        {
          "output_type": "stream",
          "name": "stdout",
          "text": [
            "[[-1.31143258 -0.954736    0.04575506 ...  1.          0.\n",
            "   1.        ]\n",
            " [-0.46065444 -0.89011309  0.04575506 ...  1.          0.\n",
            "   1.        ]\n",
            " [-1.12840394 -0.954736    0.04575506 ...  1.          0.\n",
            "   1.        ]\n",
            " ...\n",
            " [ 0.3690144  -1.01935892  0.04575506 ...  1.          0.\n",
            "   1.        ]\n",
            " [-1.59537101 -0.82549017  0.04575506 ...  1.          0.\n",
            "   1.        ]\n",
            " [ 0.85702977  0.27309944  0.04575506 ...  0.          1.\n",
            "   0.        ]]\n"
          ]
        }
      ]
    },
    {
      "cell_type": "code",
      "source": [
        "# Create a Logistic Regression model\n",
        "model = LogisticRegression()"
      ],
      "metadata": {
        "id": "BFsiz84DZEAn"
      },
      "execution_count": null,
      "outputs": []
    },
    {
      "cell_type": "code",
      "source": [
        "# Train the model on the transformed training data\n",
        "model.fit(X_train_transformed, y_train)"
      ],
      "metadata": {
        "colab": {
          "base_uri": "https://localhost:8080/",
          "height": 75
        },
        "id": "6z_kmdSOmeHb",
        "outputId": "50271dfd-4e6a-4499-9703-41b03b2a7b3c"
      },
      "execution_count": null,
      "outputs": [
        {
          "output_type": "execute_result",
          "data": {
            "text/plain": [
              "LogisticRegression()"
            ],
            "text/html": [
              "<style>#sk-container-id-1 {color: black;background-color: white;}#sk-container-id-1 pre{padding: 0;}#sk-container-id-1 div.sk-toggleable {background-color: white;}#sk-container-id-1 label.sk-toggleable__label {cursor: pointer;display: block;width: 100%;margin-bottom: 0;padding: 0.3em;box-sizing: border-box;text-align: center;}#sk-container-id-1 label.sk-toggleable__label-arrow:before {content: \"▸\";float: left;margin-right: 0.25em;color: #696969;}#sk-container-id-1 label.sk-toggleable__label-arrow:hover:before {color: black;}#sk-container-id-1 div.sk-estimator:hover label.sk-toggleable__label-arrow:before {color: black;}#sk-container-id-1 div.sk-toggleable__content {max-height: 0;max-width: 0;overflow: hidden;text-align: left;background-color: #f0f8ff;}#sk-container-id-1 div.sk-toggleable__content pre {margin: 0.2em;color: black;border-radius: 0.25em;background-color: #f0f8ff;}#sk-container-id-1 input.sk-toggleable__control:checked~div.sk-toggleable__content {max-height: 200px;max-width: 100%;overflow: auto;}#sk-container-id-1 input.sk-toggleable__control:checked~label.sk-toggleable__label-arrow:before {content: \"▾\";}#sk-container-id-1 div.sk-estimator input.sk-toggleable__control:checked~label.sk-toggleable__label {background-color: #d4ebff;}#sk-container-id-1 div.sk-label input.sk-toggleable__control:checked~label.sk-toggleable__label {background-color: #d4ebff;}#sk-container-id-1 input.sk-hidden--visually {border: 0;clip: rect(1px 1px 1px 1px);clip: rect(1px, 1px, 1px, 1px);height: 1px;margin: -1px;overflow: hidden;padding: 0;position: absolute;width: 1px;}#sk-container-id-1 div.sk-estimator {font-family: monospace;background-color: #f0f8ff;border: 1px dotted black;border-radius: 0.25em;box-sizing: border-box;margin-bottom: 0.5em;}#sk-container-id-1 div.sk-estimator:hover {background-color: #d4ebff;}#sk-container-id-1 div.sk-parallel-item::after {content: \"\";width: 100%;border-bottom: 1px solid gray;flex-grow: 1;}#sk-container-id-1 div.sk-label:hover label.sk-toggleable__label {background-color: #d4ebff;}#sk-container-id-1 div.sk-serial::before {content: \"\";position: absolute;border-left: 1px solid gray;box-sizing: border-box;top: 0;bottom: 0;left: 50%;z-index: 0;}#sk-container-id-1 div.sk-serial {display: flex;flex-direction: column;align-items: center;background-color: white;padding-right: 0.2em;padding-left: 0.2em;position: relative;}#sk-container-id-1 div.sk-item {position: relative;z-index: 1;}#sk-container-id-1 div.sk-parallel {display: flex;align-items: stretch;justify-content: center;background-color: white;position: relative;}#sk-container-id-1 div.sk-item::before, #sk-container-id-1 div.sk-parallel-item::before {content: \"\";position: absolute;border-left: 1px solid gray;box-sizing: border-box;top: 0;bottom: 0;left: 50%;z-index: -1;}#sk-container-id-1 div.sk-parallel-item {display: flex;flex-direction: column;z-index: 1;position: relative;background-color: white;}#sk-container-id-1 div.sk-parallel-item:first-child::after {align-self: flex-end;width: 50%;}#sk-container-id-1 div.sk-parallel-item:last-child::after {align-self: flex-start;width: 50%;}#sk-container-id-1 div.sk-parallel-item:only-child::after {width: 0;}#sk-container-id-1 div.sk-dashed-wrapped {border: 1px dashed gray;margin: 0 0.4em 0.5em 0.4em;box-sizing: border-box;padding-bottom: 0.4em;background-color: white;}#sk-container-id-1 div.sk-label label {font-family: monospace;font-weight: bold;display: inline-block;line-height: 1.2em;}#sk-container-id-1 div.sk-label-container {text-align: center;}#sk-container-id-1 div.sk-container {/* jupyter's `normalize.less` sets `[hidden] { display: none; }` but bootstrap.min.css set `[hidden] { display: none !important; }` so we also need the `!important` here to be able to override the default hidden behavior on the sphinx rendered scikit-learn.org. See: https://github.com/scikit-learn/scikit-learn/issues/21755 */display: inline-block !important;position: relative;}#sk-container-id-1 div.sk-text-repr-fallback {display: none;}</style><div id=\"sk-container-id-1\" class=\"sk-top-container\"><div class=\"sk-text-repr-fallback\"><pre>LogisticRegression()</pre><b>In a Jupyter environment, please rerun this cell to show the HTML representation or trust the notebook. <br />On GitHub, the HTML representation is unable to render, please try loading this page with nbviewer.org.</b></div><div class=\"sk-container\" hidden><div class=\"sk-item\"><div class=\"sk-estimator sk-toggleable\"><input class=\"sk-toggleable__control sk-hidden--visually\" id=\"sk-estimator-id-1\" type=\"checkbox\" checked><label for=\"sk-estimator-id-1\" class=\"sk-toggleable__label sk-toggleable__label-arrow\">LogisticRegression</label><div class=\"sk-toggleable__content\"><pre>LogisticRegression()</pre></div></div></div></div></div>"
            ]
          },
          "metadata": {},
          "execution_count": 16
        }
      ]
    },
    {
      "cell_type": "code",
      "source": [
        "# Make predictions on the transformed test data\n",
        "y_pred = model.predict(X_test_transformed)"
      ],
      "metadata": {
        "id": "_GmvS0b7ZEDv"
      },
      "execution_count": null,
      "outputs": []
    },
    {
      "cell_type": "code",
      "source": [
        "# Evaluate the model\n",
        "accuracy = accuracy_score(y_test, y_pred)\n",
        "classification_rep = classification_report(y_test, y_pred)"
      ],
      "metadata": {
        "colab": {
          "base_uri": "https://localhost:8080/"
        },
        "id": "nhDkPb17ZYgH",
        "outputId": "f337b911-1338-443d-af1d-320fffaef85c"
      },
      "execution_count": null,
      "outputs": [
        {
          "output_type": "stream",
          "name": "stderr",
          "text": [
            "/usr/local/lib/python3.10/dist-packages/sklearn/metrics/_classification.py:1344: UndefinedMetricWarning: Precision and F-score are ill-defined and being set to 0.0 in labels with no predicted samples. Use `zero_division` parameter to control this behavior.\n",
            "  _warn_prf(average, modifier, msg_start, len(result))\n",
            "/usr/local/lib/python3.10/dist-packages/sklearn/metrics/_classification.py:1344: UndefinedMetricWarning: Precision and F-score are ill-defined and being set to 0.0 in labels with no predicted samples. Use `zero_division` parameter to control this behavior.\n",
            "  _warn_prf(average, modifier, msg_start, len(result))\n",
            "/usr/local/lib/python3.10/dist-packages/sklearn/metrics/_classification.py:1344: UndefinedMetricWarning: Precision and F-score are ill-defined and being set to 0.0 in labels with no predicted samples. Use `zero_division` parameter to control this behavior.\n",
            "  _warn_prf(average, modifier, msg_start, len(result))\n"
          ]
        }
      ]
    },
    {
      "cell_type": "code",
      "source": [
        "print(\"Accuracy:\", accuracy)\n",
        "print(\"Classification Report:\\n\", classification_rep)"
      ],
      "metadata": {
        "colab": {
          "base_uri": "https://localhost:8080/"
        },
        "id": "iZ7hkHb8ZYrv",
        "outputId": "3c398497-6059-435d-9034-8a3de5aa51ff"
      },
      "execution_count": null,
      "outputs": [
        {
          "output_type": "stream",
          "name": "stdout",
          "text": [
            "Accuracy: 0.8776497493183217\n",
            "Classification Report:\n",
            "               precision    recall  f1-score   support\n",
            "\n",
            "           0       0.88      1.00      0.93      9978\n",
            "           1       0.00      0.00      0.00      1391\n",
            "\n",
            "    accuracy                           0.88     11369\n",
            "   macro avg       0.44      0.50      0.47     11369\n",
            "weighted avg       0.77      0.88      0.82     11369\n",
            "\n"
          ]
        }
      ]
    }
  ]
}